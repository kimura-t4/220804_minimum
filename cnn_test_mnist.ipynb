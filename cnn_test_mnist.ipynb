{
 "cells": [
  {
   "cell_type": "code",
   "execution_count": 1,
   "metadata": {
    "executionInfo": {
     "elapsed": 231,
     "status": "ok",
     "timestamp": 1655103478843,
     "user": {
      "displayName": "木村啓太",
      "userId": "07061939741693881192"
     },
     "user_tz": -540
    },
    "id": "oaC1zv7CQHzJ"
   },
   "outputs": [],
   "source": [
    "import tensorflow as tf\n",
    "import numpy as np\n",
    "import matplotlib.pyplot as plt\n",
    "\n",
    "import os\n",
    "import re\n",
    "import glob\n",
    "import PIL\n",
    "import time\n",
    "import datetime\n",
    "import gc\n",
    "from urllib import request\n",
    "import pathlib\n",
    "import random\n",
    "import gzip\n",
    "import struct\n",
    "\n",
    "from IPython import display"
   ]
  },
  {
   "cell_type": "code",
   "execution_count": 2,
   "metadata": {
    "colab": {
     "base_uri": "https://localhost:8080/"
    },
    "executionInfo": {
     "elapsed": 3,
     "status": "ok",
     "timestamp": 1655103479788,
     "user": {
      "displayName": "木村啓太",
      "userId": "07061939741693881192"
     },
     "user_tz": -540
    },
    "id": "fFpFrota5zCT",
    "outputId": "e61022eb-5138-4127-94ad-89aa6163fe2d"
   },
   "outputs": [],
   "source": [
    "# Load the TensorBoard notebook extension\n",
    "%load_ext tensorboard\n",
    "\n",
    "# Clear any logs from previous runs\n",
    "!rm -rf ./logs/ "
   ]
  },
  {
   "cell_type": "code",
   "execution_count": 3,
   "metadata": {
    "executionInfo": {
     "elapsed": 295,
     "status": "ok",
     "timestamp": 1655103480082,
     "user": {
      "displayName": "木村啓太",
      "userId": "07061939741693881192"
     },
     "user_tz": -540
    },
    "id": "naaRG6u7zEcJ"
   },
   "outputs": [],
   "source": [
    "IMG_SHAPE = (28, 28, 1)\n",
    "LABEL_NUM = 10"
   ]
  },
  {
   "cell_type": "code",
   "execution_count": null,
   "metadata": {},
   "outputs": [],
   "source": []
  },
  {
   "cell_type": "code",
   "execution_count": 4,
   "metadata": {},
   "outputs": [],
   "source": [
    "dataset_dir = os.environ[\"HOME\"] + \"/Workspace/Dataset/mnist/\""
   ]
  },
  {
   "cell_type": "code",
   "execution_count": 5,
   "metadata": {},
   "outputs": [
    {
     "name": "stdout",
     "output_type": "stream",
     "text": [
      "jpg\t\t\t   TFRecord\n",
      "png\t\t\t   train-images-idx3-ubyte.gz\n",
      "t10k-images-idx3-ubyte.gz  train-labels-idx1-ubyte.gz\n",
      "t10k-labels-idx1-ubyte.gz\n"
     ]
    }
   ],
   "source": [
    "!ls $dataset_dir"
   ]
  },
  {
   "cell_type": "code",
   "execution_count": 6,
   "metadata": {},
   "outputs": [
    {
     "name": "stdout",
     "output_type": "stream",
     "text": [
      "\n"
     ]
    }
   ],
   "source": [
    "print()"
   ]
  },
  {
   "cell_type": "code",
   "execution_count": null,
   "metadata": {},
   "outputs": [],
   "source": []
  },
  {
   "cell_type": "code",
   "execution_count": 7,
   "metadata": {},
   "outputs": [],
   "source": [
    "def load_mnist(x_filename, y_filename, dataset_dir):\n",
    "    x_path = dataset_dir + x_filename\n",
    "    y_path = dataset_dir + y_filename\n",
    "    with gzip.open(x_path) as fx, gzip.open(y_path) as fy:\n",
    "        fx.read(4)\n",
    "        fy.read(4)\n",
    "        N, = struct.unpack('>i', fy.read(4))\n",
    "        if N != struct.unpack('>i', fx.read(4))[0]:\n",
    "            raise RuntimeError('wrong pair of MNIST images and labels')\n",
    "        fx.read(8)\n",
    "\n",
    "        images = np.empty((N, 784), dtype=np.uint8)\n",
    "        labels = np.empty(N, dtype=np.uint8)\n",
    "\n",
    "        for i in range(N):\n",
    "            labels[i] = ord(fy.read(1))\n",
    "            for j in range(784):\n",
    "                images[i, j] = ord(fx.read(1))\n",
    "    return images.reshape(-1, *IMG_SHAPE), np.eye(LABEL_NUM)[labels]"
   ]
  },
  {
   "cell_type": "code",
   "execution_count": 8,
   "metadata": {},
   "outputs": [],
   "source": [
    "X_train_valid, y_train_valid = load_mnist(\"train-images-idx3-ubyte.gz\", \"train-labels-idx1-ubyte.gz\", dataset_dir)\n",
    "X_test, y_test = load_mnist(\"t10k-images-idx3-ubyte.gz\", \"t10k-labels-idx1-ubyte.gz\", dataset_dir)"
   ]
  },
  {
   "cell_type": "code",
   "execution_count": 9,
   "metadata": {},
   "outputs": [
    {
     "data": {
      "image/png": "[encoded data removed]",
      "text/plain": [
       "<Figure size 432x288 with 1 Axes>"
      ]
     },
     "metadata": {
      "needs_background": "light"
     },
     "output_type": "display_data"
    },
    {
     "name": "stdout",
     "output_type": "stream",
     "text": [
      "[0. 0. 0. 0. 0. 1. 0. 0. 0. 0.]\n"
     ]
    },
    {
     "data": {
      "image/png": "[encoded data removed]",
      "text/plain": [
       "<Figure size 432x288 with 1 Axes>"
      ]
     },
     "metadata": {
      "needs_background": "light"
     },
     "output_type": "display_data"
    },
    {
     "name": "stdout",
     "output_type": "stream",
     "text": [
      "[1. 0. 0. 0. 0. 0. 0. 0. 0. 0.]\n"
     ]
    },
    {
     "data": {
      "image/png": "[encoded data removed]",
      "text/plain": [
       "<Figure size 432x288 with 1 Axes>"
      ]
     },
     "metadata": {
      "needs_background": "light"
     },
     "output_type": "display_data"
    },
    {
     "name": "stdout",
     "output_type": "stream",
     "text": [
      "[0. 0. 0. 0. 1. 0. 0. 0. 0. 0.]\n"
     ]
    }
   ],
   "source": [
    "for i in range(3):\n",
    "    plt.imshow(X_train_valid[i].reshape(28, 28), cmap=\"gray\")\n",
    "    plt.show()\n",
    "\n",
    "    print(y_train_valid[i])"
   ]
  },
  {
   "cell_type": "code",
   "execution_count": null,
   "metadata": {},
   "outputs": [],
   "source": []
  },
  {
   "cell_type": "code",
   "execution_count": 10,
   "metadata": {
    "executionInfo": {
     "elapsed": 299,
     "status": "ok",
     "timestamp": 1655103480380,
     "user": {
      "displayName": "木村啓太",
      "userId": "07061939741693881192"
     },
     "user_tz": -540
    },
    "id": "2Hrf8mJTxZS0"
   },
   "outputs": [],
   "source": [
    "ratio_train_valid = 0.8\n",
    "\n",
    "X_train, X_valid = np.split(X_train_valid, [int(len(X_train_valid) * ratio_train_valid)])\n",
    "y_train, y_valid = np.split(y_train_valid, [int(len(y_train_valid) * ratio_train_valid)])"
   ]
  },
  {
   "cell_type": "code",
   "execution_count": 11,
   "metadata": {},
   "outputs": [],
   "source": [
    "BATCH_SIZE = 32"
   ]
  },
  {
   "cell_type": "code",
   "execution_count": 12,
   "metadata": {
    "executionInfo": {
     "elapsed": 1,
     "status": "ok",
     "timestamp": 1655103480380,
     "user": {
      "displayName": "木村啓太",
      "userId": "07061939741693881192"
     },
     "user_tz": -540
    },
    "id": "etgY6juvsdrE"
   },
   "outputs": [
    {
     "name": "stderr",
     "output_type": "stream",
     "text": [
      "2022-07-13 18:37:16.309852: I tensorflow/core/platform/cpu_feature_guard.cc:142] This TensorFlow binary is optimized with oneAPI Deep Neural Network Library (oneDNN) to use the following CPU instructions in performance-critical operations:  AVX2 AVX512F FMA\n",
      "To enable them in other operations, rebuild TensorFlow with the appropriate compiler flags.\n",
      "2022-07-13 18:37:16.855435: I tensorflow/core/common_runtime/gpu/gpu_device.cc:1510] Created device /job:localhost/replica:0/task:0/device:GPU:0 with 22300 MB memory:  -> device: 0, name: NVIDIA GeForce RTX 3090, pci bus id: 0000:18:00.0, compute capability: 8.6\n"
     ]
    }
   ],
   "source": [
    "train_dataset = tf.data.Dataset.from_tensor_slices((X_train, y_train))\n",
    "train_dataset = train_dataset.shuffle(len(X_train))\n",
    "train_dataset = train_dataset.batch(BATCH_SIZE, drop_remainder = True)   "
   ]
  },
  {
   "cell_type": "code",
   "execution_count": 13,
   "metadata": {},
   "outputs": [],
   "source": [
    "valid_dataset = tf.data.Dataset.from_tensor_slices((X_valid, y_valid))\n",
    "valid_dataset = valid_dataset.shuffle(len(X_valid))\n",
    "valid_dataset = valid_dataset.batch(BATCH_SIZE, drop_remainder = True)   "
   ]
  },
  {
   "cell_type": "code",
   "execution_count": 14,
   "metadata": {
    "executionInfo": {
     "elapsed": 1,
     "status": "ok",
     "timestamp": 1655103480743,
     "user": {
      "displayName": "木村啓太",
      "userId": "07061939741693881192"
     },
     "user_tz": -540
    },
    "id": "nofUtXkXx-_q"
   },
   "outputs": [],
   "source": [
    "test_dataset = tf.data.Dataset.from_tensor_slices((X_test, y_test))\n",
    "test_dataset = test_dataset.shuffle(len(X_test))\n",
    "test_dataset = test_dataset.batch(BATCH_SIZE, drop_remainder = True)   "
   ]
  },
  {
   "cell_type": "code",
   "execution_count": 88,
   "metadata": {
    "executionInfo": {
     "elapsed": 1,
     "status": "ok",
     "timestamp": 1655103481092,
     "user": {
      "displayName": "木村啓太",
      "userId": "07061939741693881192"
     },
     "user_tz": -540
    },
    "id": "aXKlmqTJSG-B"
   },
   "outputs": [],
   "source": [
    "def construct_model(input_shape):\n",
    "  input = tf.keras.layers.Input(shape = input_shape)\n",
    "  output = input\n",
    "  output = tf.keras.layers.Conv2D(filters = 64, kernel_size = 3, padding = \"same\")(output)\n",
    "  output = tf.keras.layers.ReLU()(output)\n",
    "  output = tf.keras.layers.Conv2D(filters = 64, kernel_size = 3, padding = \"same\")(output)\n",
    "  output = tf.keras.layers.ReLU()(output)\n",
    "  output = tf.keras.layers.Conv2D(filters = 64, kernel_size = 3, padding = \"same\")(output)\n",
    "  output = tf.keras.layers.ReLU()(output)\n",
    "  output = tf.keras.layers.Conv2D(filters = LABEL_NUM, kernel_size = 7, padding = \"same\")(output)\n",
    "  output = tf.keras.layers.GlobalAveragePooling2D()(output)\n",
    "\n",
    "  # output = tf.keras.layers.MaxPool2D(strides = 2)(input)\n",
    "  # output = tf.keras.layers.Conv2D(filters = 32, kernel_size = 3, padding = \"same\")(output)\n",
    "  # output = tf.keras.layers.ReLU()(output)\n",
    "  # output = tf.keras.layers.MaxPool2D(strides = 2)(output)\n",
    "  # output = tf.keras.layers.Conv2D(filters = 64, kernel_size = 3, padding = \"same\")(output)\n",
    "  # output = tf.keras.layers.ReLU()(output)\n",
    "  # output = tf.keras.layers.MaxPool2D(strides = 2)(output)\n",
    "  # output = tf.keras.layers.Conv2D(filters = 128, kernel_size = 3, padding = \"same\")(output)\n",
    "  # output = tf.keras.layers.ReLU()(output)\n",
    "  # output = tf.keras.layers.Flatten()(output)\n",
    "  # output = tf.keras.layers.Dense(LABEL_NUM)(output)\n",
    "  # output = tf.keras.layers.Softmax()(output)\n",
    "  return tf.keras.Model(inputs = input, outputs = output)"
   ]
  },
  {
   "cell_type": "code",
   "execution_count": 89,
   "metadata": {
    "executionInfo": {
     "elapsed": 2,
     "status": "ok",
     "timestamp": 1655103481418,
     "user": {
      "displayName": "木村啓太",
      "userId": "07061939741693881192"
     },
     "user_tz": -540
    },
    "id": "3bsZw6PEX0eu"
   },
   "outputs": [],
   "source": [
    "model = construct_model(IMG_SHAPE)"
   ]
  },
  {
   "cell_type": "code",
   "execution_count": 90,
   "metadata": {
    "colab": {
     "base_uri": "https://localhost:8080/"
    },
    "executionInfo": {
     "elapsed": 13,
     "status": "ok",
     "timestamp": 1655103481668,
     "user": {
      "displayName": "木村啓太",
      "userId": "07061939741693881192"
     },
     "user_tz": -540
    },
    "id": "D54Tq4VMYz4K",
    "outputId": "7273c510-635f-4aed-a34b-446c92c98fc6"
   },
   "outputs": [
    {
     "name": "stdout",
     "output_type": "stream",
     "text": [
      "Model: \"model_6\"\n",
      "_________________________________________________________________\n",
      "Layer (type)                 Output Shape              Param #   \n",
      "=================================================================\n",
      "input_11 (InputLayer)        [(None, 28, 28, 1)]       0         \n",
      "_________________________________________________________________\n",
      "conv2d_16 (Conv2D)           (None, 28, 28, 64)        640       \n",
      "_________________________________________________________________\n",
      "re_lu_8 (ReLU)               (None, 28, 28, 64)        0         \n",
      "_________________________________________________________________\n",
      "conv2d_17 (Conv2D)           (None, 28, 28, 64)        36928     \n",
      "_________________________________________________________________\n",
      "re_lu_9 (ReLU)               (None, 28, 28, 64)        0         \n",
      "_________________________________________________________________\n",
      "conv2d_18 (Conv2D)           (None, 28, 28, 64)        36928     \n",
      "_________________________________________________________________\n",
      "re_lu_10 (ReLU)              (None, 28, 28, 64)        0         \n",
      "_________________________________________________________________\n",
      "conv2d_19 (Conv2D)           (None, 28, 28, 10)        31370     \n",
      "_________________________________________________________________\n",
      "global_average_pooling2d_5 ( (None, 10)                0         \n",
      "=================================================================\n",
      "Total params: 105,866\n",
      "Trainable params: 105,866\n",
      "Non-trainable params: 0\n",
      "_________________________________________________________________\n"
     ]
    }
   ],
   "source": [
    "model.summary()"
   ]
  },
  {
   "cell_type": "code",
   "execution_count": 91,
   "metadata": {
    "executionInfo": {
     "elapsed": 2,
     "status": "ok",
     "timestamp": 1655103482499,
     "user": {
      "displayName": "木村啓太",
      "userId": "07061939741693881192"
     },
     "user_tz": -540
    },
    "id": "nAdKWL7fYT3-"
   },
   "outputs": [],
   "source": [
    "def loss(y_true, y_pred):\n",
    "  return tf.keras.metrics.categorical_crossentropy(y_true, y_pred)"
   ]
  },
  {
   "cell_type": "code",
   "execution_count": 92,
   "metadata": {
    "executionInfo": {
     "elapsed": 2,
     "status": "ok",
     "timestamp": 1655103482846,
     "user": {
      "displayName": "木村啓太",
      "userId": "07061939741693881192"
     },
     "user_tz": -540
    },
    "id": "ioNIej-bRczH"
   },
   "outputs": [],
   "source": [
    "def valid_step(model, x_valid, y_valid):\n",
    "  predictions = model(x_valid)\n",
    "  loss_value = loss(y_valid, predictions)\n",
    "\n",
    "  valid_loss(loss_value)\n",
    "  valid_accuracy(y_valid, predictions)"
   ]
  },
  {
   "cell_type": "code",
   "execution_count": 93,
   "metadata": {
    "executionInfo": {
     "elapsed": 1,
     "status": "ok",
     "timestamp": 1655103483462,
     "user": {
      "displayName": "木村啓太",
      "userId": "07061939741693881192"
     },
     "user_tz": -540
    },
    "id": "7ROFDiYrs6YS"
   },
   "outputs": [],
   "source": [
    "optimizer = tf.keras.optimizers.Adam(learning_rate = 0.01, beta_1=0.5, beta_2=0.999)"
   ]
  },
  {
   "cell_type": "code",
   "execution_count": 94,
   "metadata": {
    "executionInfo": {
     "elapsed": 2,
     "status": "ok",
     "timestamp": 1655103483891,
     "user": {
      "displayName": "木村啓太",
      "userId": "07061939741693881192"
     },
     "user_tz": -540
    },
    "id": "jbFO665ntODD"
   },
   "outputs": [],
   "source": [
    "@tf.function\n",
    "def grad(model, x, y):\n",
    "  with tf.GradientTape() as tape:\n",
    "    y_pred = model(x)\n",
    "    loss_value = loss(y, y_pred)\n",
    "  grads = tape.gradient(loss_value, model.trainable_variables)\n",
    "  train_accuracy(y, y_pred)\n",
    "  return loss_value, grads"
   ]
  },
  {
   "cell_type": "code",
   "execution_count": null,
   "metadata": {
    "executionInfo": {
     "elapsed": 2,
     "status": "ok",
     "timestamp": 1655103484532,
     "user": {
      "displayName": "木村啓太",
      "userId": "07061939741693881192"
     },
     "user_tz": -540
    },
    "id": "WYnySotf6di7"
   },
   "outputs": [],
   "source": []
  },
  {
   "cell_type": "code",
   "execution_count": 95,
   "metadata": {
    "executionInfo": {
     "elapsed": 323,
     "status": "ok",
     "timestamp": 1655103485104,
     "user": {
      "displayName": "木村啓太",
      "userId": "07061939741693881192"
     },
     "user_tz": -540
    },
    "id": "QrJuZUC6P-7z"
   },
   "outputs": [],
   "source": [
    "!rm -rf ./logs/ "
   ]
  },
  {
   "cell_type": "code",
   "execution_count": null,
   "metadata": {
    "executionInfo": {
     "elapsed": 1,
     "status": "ok",
     "timestamp": 1655103485421,
     "user": {
      "displayName": "木村啓太",
      "userId": "07061939741693881192"
     },
     "user_tz": -540
    },
    "id": "cUYpcDU6P-_K"
   },
   "outputs": [],
   "source": []
  },
  {
   "cell_type": "code",
   "execution_count": 96,
   "metadata": {
    "executionInfo": {
     "elapsed": 2,
     "status": "ok",
     "timestamp": 1655103485710,
     "user": {
      "displayName": "木村啓太",
      "userId": "07061939741693881192"
     },
     "user_tz": -540
    },
    "id": "XkUEmw2b6emJ"
   },
   "outputs": [],
   "source": [
    "current_time = datetime.datetime.now().strftime(\"%Y%m%d-%H%M%S\")\n",
    "train_log_dir = 'logs/gradient_tape/' + current_time + '/train'\n",
    "valid_log_dir = 'logs/gradient_tape/' + current_time + '/valid'\n",
    "train_summary_writer = tf.summary.create_file_writer(train_log_dir)\n",
    "valid_summary_writer = tf.summary.create_file_writer(valid_log_dir)"
   ]
  },
  {
   "cell_type": "code",
   "execution_count": 97,
   "metadata": {
    "executionInfo": {
     "elapsed": 1,
     "status": "ok",
     "timestamp": 1655103486300,
     "user": {
      "displayName": "木村啓太",
      "userId": "07061939741693881192"
     },
     "user_tz": -540
    },
    "id": "cQ2Sj1ea6dqt"
   },
   "outputs": [],
   "source": [
    "# Define our metrics\n",
    "train_loss = tf.keras.metrics.Mean('train_loss', dtype=tf.float32)\n",
    "train_accuracy = tf.keras.metrics.CategoricalAccuracy('train_accuracy')\n",
    "valid_loss = tf.keras.metrics.Mean('valid_loss', dtype=tf.float32)\n",
    "valid_accuracy = tf.keras.metrics.CategoricalAccuracy('valid_accuracy')\n",
    "\n",
    "grad_log_dir = 'logs/gradient_tape/' + current_time + '/grad'\n",
    "grad_summary_writer = tf.summary.create_file_writer(grad_log_dir)"
   ]
  },
  {
   "cell_type": "code",
   "execution_count": 98,
   "metadata": {
    "executionInfo": {
     "elapsed": 4,
     "status": "ok",
     "timestamp": 1655103490348,
     "user": {
      "displayName": "木村啓太",
      "userId": "07061939741693881192"
     },
     "user_tz": -540
    },
    "id": "uWKNMG4Z6mup"
   },
   "outputs": [],
   "source": [
    "model = construct_model(IMG_SHAPE)"
   ]
  },
  {
   "cell_type": "code",
   "execution_count": 99,
   "metadata": {
    "executionInfo": {
     "elapsed": 4,
     "status": "ok",
     "timestamp": 1655103490349,
     "user": {
      "displayName": "木村啓太",
      "userId": "07061939741693881192"
     },
     "user_tz": -540
    },
    "id": "ULTK-g0jvFU-"
   },
   "outputs": [],
   "source": [
    "num_epochs = 10"
   ]
  },
  {
   "cell_type": "code",
   "execution_count": 100,
   "metadata": {
    "executionInfo": {
     "elapsed": 355253,
     "status": "ok",
     "timestamp": 1655103845599,
     "user": {
      "displayName": "木村啓太",
      "userId": "07061939741693881192"
     },
     "user_tz": -540
    },
    "id": "EZJiyEazvVDV"
   },
   "outputs": [
    {
     "name": "stdout",
     "output_type": "stream",
     "text": [
      "epoch: 0\n",
      "epoch: 1\n",
      "epoch: 2\n",
      "epoch: 3\n",
      "epoch: 4\n",
      "epoch: 5\n",
      "epoch: 6\n",
      "epoch: 7\n",
      "epoch: 8\n",
      "epoch: 9\n"
     ]
    }
   ],
   "source": [
    "for epoch in range(num_epochs):\n",
    "  epoch_loss_avg = tf.keras.metrics.Mean()\n",
    "  epoch_accuracy = tf.keras.metrics.CategoricalAccuracy()\n",
    "\n",
    "  for x, y in train_dataset:\n",
    "    loss_value, grads = grad(model, x, y)\n",
    "    optimizer.apply_gradients(zip(grads, model.trainable_variables))\n",
    "\n",
    "    train_loss(loss_value)\n",
    "\n",
    "    with grad_summary_writer.as_default():\n",
    "      for i, grad_value in enumerate(grads):\n",
    "        tf.summary.scalar(f\"grad {i}\", np.std(grad_value), step=epoch)\n",
    "      \n",
    "  with train_summary_writer.as_default():\n",
    "    tf.summary.scalar('train_loss', train_loss.result(), step=epoch)\n",
    "    tf.summary.scalar('train_accuracy', train_accuracy.result(), step=epoch)\n",
    "\n",
    "  for (x_valid, y_valid) in valid_dataset:\n",
    "    valid_step(model, x_valid, y_valid)\n",
    "  with valid_summary_writer.as_default():\n",
    "    tf.summary.scalar('valid_loss', valid_loss.result(), step=epoch)\n",
    "    tf.summary.scalar('valid_accuracy', valid_accuracy.result(), step=epoch)\n",
    "\n",
    "  print(f\"epoch: {epoch}\")"
   ]
  },
  {
   "cell_type": "code",
   "execution_count": 101,
   "metadata": {},
   "outputs": [
    {
     "name": "stdout",
     "output_type": "stream",
     "text": [
      "tf.Tensor(0.1009, shape=(), dtype=float32)\n"
     ]
    }
   ],
   "source": [
    "y_pred = model(X_test)\n",
    "print(tf.keras.metrics.CategoricalAccuracy()(y_pred, y_test))"
   ]
  },
  {
   "cell_type": "code",
   "execution_count": 102,
   "metadata": {
    "id": "5-sAaiS52NmY"
   },
   "outputs": [
    {
     "name": "stdout",
     "output_type": "stream",
     "text": [
      "y_pred: 9, y_test: 7\n"
     ]
    },
    {
     "data": {
      "image/png": "[encoded data removed]",
      "text/plain": [
       "<Figure size 432x288 with 1 Axes>"
      ]
     },
     "metadata": {
      "needs_background": "light"
     },
     "output_type": "display_data"
    },
    {
     "name": "stdout",
     "output_type": "stream",
     "text": [
      "y_pred: 9, y_test: 2\n"
     ]
    },
    {
     "data": {
      "image/png": "[encoded data removed]",
      "text/plain": [
       "<Figure size 432x288 with 1 Axes>"
      ]
     },
     "metadata": {
      "needs_background": "light"
     },
     "output_type": "display_data"
    },
    {
     "name": "stdout",
     "output_type": "stream",
     "text": [
      "y_pred: 9, y_test: 1\n"
     ]
    },
    {
     "data": {
      "image/png": "[encoded data removed]",
      "text/plain": [
       "<Figure size 432x288 with 1 Axes>"
      ]
     },
     "metadata": {
      "needs_background": "light"
     },
     "output_type": "display_data"
    },
    {
     "name": "stdout",
     "output_type": "stream",
     "text": [
      "y_pred: 9, y_test: 0\n"
     ]
    },
    {
     "data": {
      "image/png": "[encoded data removed]",
      "text/plain": [
       "<Figure size 432x288 with 1 Axes>"
      ]
     },
     "metadata": {
      "needs_background": "light"
     },
     "output_type": "display_data"
    },
    {
     "name": "stdout",
     "output_type": "stream",
     "text": [
      "y_pred: 9, y_test: 4\n"
     ]
    },
    {
     "data": {
      "image/png": "[encoded data removed]",
      "text/plain": [
       "<Figure size 432x288 with 1 Axes>"
      ]
     },
     "metadata": {
      "needs_background": "light"
     },
     "output_type": "display_data"
    }
   ],
   "source": [
    "N_test = 5\n",
    "y_pred = model(X_test[:N_test])\n",
    "\n",
    "for i in range(N_test):\n",
    "    print(f\"y_pred: {np.argmax(y_pred[i])}, y_test: {np.argmax(y_test[i])}\")\n",
    "    plt.imshow(X_test[i], cmap =\"gray\")\n",
    "    plt.show()"
   ]
  },
  {
   "cell_type": "code",
   "execution_count": null,
   "metadata": {},
   "outputs": [],
   "source": []
  },
  {
   "cell_type": "code",
   "execution_count": 104,
   "metadata": {},
   "outputs": [
    {
     "name": "stdout",
     "output_type": "stream",
     "text": [
      "(7, 7, 64, 10)\n"
     ]
    }
   ],
   "source": [
    "print(model.layers[-2].get_weights()[0].shape)"
   ]
  },
  {
   "cell_type": "code",
   "execution_count": 105,
   "metadata": {},
   "outputs": [
    {
     "data": {
      "image/png": "[encoded data removed]",
      "text/plain": [
       "<Figure size 432x288 with 1 Axes>"
      ]
     },
     "metadata": {
      "needs_background": "light"
     },
     "output_type": "display_data"
    },
    {
     "data": {
      "image/png": "[encoded data removed]",
      "text/plain": [
       "<Figure size 432x288 with 1 Axes>"
      ]
     },
     "metadata": {
      "needs_background": "light"
     },
     "output_type": "display_data"
    },
    {
     "data": {
      "image/png": "[encoded data removed]",
      "text/plain": [
       "<Figure size 432x288 with 1 Axes>"
      ]
     },
     "metadata": {
      "needs_background": "light"
     },
     "output_type": "display_data"
    },
    {
     "data": {
      "image/png": "[encoded data removed]",
      "text/plain": [
       "<Figure size 432x288 with 1 Axes>"
      ]
     },
     "metadata": {
      "needs_background": "light"
     },
     "output_type": "display_data"
    },
    {
     "data": {
      "image/png": "[encoded data removed]",
      "text/plain": [
       "<Figure size 432x288 with 1 Axes>"
      ]
     },
     "metadata": {
      "needs_background": "light"
     },
     "output_type": "display_data"
    },
    {
     "data": {
      "image/png": "[encoded data removed]",
      "text/plain": [
       "<Figure size 432x288 with 1 Axes>"
      ]
     },
     "metadata": {
      "needs_background": "light"
     },
     "output_type": "display_data"
    },
    {
     "data": {
      "image/png": "[encoded data removed]",
      "text/plain": [
       "<Figure size 432x288 with 1 Axes>"
      ]
     },
     "metadata": {
      "needs_background": "light"
     },
     "output_type": "display_data"
    },
    {
     "data": {
      "image/png": "[encoded data removed]",
      "text/plain": [
       "<Figure size 432x288 with 1 Axes>"
      ]
     },
     "metadata": {
      "needs_background": "light"
     },
     "output_type": "display_data"
    },
    {
     "data": {
      "image/png": "[encoded data removed]",
      "text/plain": [
       "<Figure size 432x288 with 1 Axes>"
      ]
     },
     "metadata": {
      "needs_background": "light"
     },
     "output_type": "display_data"
    },
    {
     "data": {
      "image/png": "[encoded data removed]",
      "text/plain": [
       "<Figure size 432x288 with 1 Axes>"
      ]
     },
     "metadata": {
      "needs_background": "light"
     },
     "output_type": "display_data"
    }
   ],
   "source": [
    "img = np.average(model.layers[-2].get_weights()[0], axis=2)\n",
    "for i in range(img.shape[2]):\n",
    "    plt.imshow(img[:,:,i], cmap=\"gray\")\n",
    "    plt.show()"
   ]
  },
  {
   "cell_type": "code",
   "execution_count": null,
   "metadata": {},
   "outputs": [],
   "source": []
  }
 ],
 "metadata": {
  "accelerator": "GPU",
  "colab": {
   "authorship_tag": "ABX9TyPtj3TMiNQvw6yAlO3pO7E7",
   "collapsed_sections": [],
   "mount_file_id": "1Tq5z9uXmdiR2Y6FptMsUpE4ZLve8EMrq",
   "name": "cnn test mnist.ipynb",
   "provenance": [
    {
     "file_id": "1kuXp33rNbqSwLzFTbrTuX6-p6KKRW2yL",
     "timestamp": 1654850258112
    }
   ]
  },
  "interpreter": {
   "hash": "d46ce1dbe4360d4f2d5315887bc429a0b73f33913d74a70a5b0b67e0a9e45453"
  },
  "kernelspec": {
   "display_name": "Python 3 (ipykernel)",
   "language": "python",
   "name": "python3"
  },
  "language_info": {
   "codemirror_mode": {
    "name": "ipython",
    "version": 3
   },
   "file_extension": ".py",
   "mimetype": "text/x-python",
   "name": "python",
   "nbconvert_exporter": "python",
   "pygments_lexer": "ipython3",
   "version": "3.8.0"
  }
 },
 "nbformat": 4,
 "nbformat_minor": 4
}
